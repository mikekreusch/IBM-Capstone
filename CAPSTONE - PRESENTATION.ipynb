{
 "cells": [
  {
   "cell_type": "markdown",
   "metadata": {},
   "source": [
    "<center><b>CAPSTONE PROJECT PRESENTATION | MIKE KREUSCH CAPSTONE PROJECT</b></center>\n",
    "\n",
    "My capstone project caused my brain to explode with ideas about scale. I defined my project with a limited scope understanding that the point of this final project was to prepare a full report, not to perform the most demanding and arcane analysis possible. I have attempted to bring this course of classes back to where it began.\n",
    "\n",
    "<b>“The ultimate purpose of analytics is to communicate findings to the concerned who might use these insights to formulate policy or strategy.”</b> (<a href=\"https://d18ky98rnyall9.cloudfront.net/_d34fba5dff39fc13a61304749d07af66_Datascience_Orientation_Use_Cases_for_Data_Science_Reading_1.pdf?Expires=1547769600&Signature=VoaB26awkd4ihoqCxy7y7e7cD2~GHzguLPFGoCQl0IGuYJrBuMzd0ymN8nyFKZpR2PuMb6mbTaNfEYsub2YQrBlQpMqFcWm9FWaAVp7xXnnz3gGjMBR~YCZedmIo3Cq3SneuqET-kpk1wuOjekW90AsQD045g1ESclii-oltGyM_&Key-Pair-Id=APKAJLTNE6QMUY6HBC5A\">Course Text: Getting Started with Data Science - The Final Deliverable</a>)\n",
    "\n",
    "The chances that a data scientist possesses the understanding of any subject at the same level as the “concerned” is low. Practitioners who make use of data science methods to better understand their area of expertise are EXPERTS in that area. They can navigate it effectively without reliance on every level of detail or quantification. Knowing how things work, if you do, is certainly better than processing data as far as making decisions.\n",
    "\n",
    "This is not to suggest that data science is not essential for informing the concerned. Which brings me to my starting point. My project was very small scale. Miniscule is probably the best description. I was dealing with low tens of thousands of data points at a time, if that. Even at this tiny scale I found myself facing capacity limits on my computer and network resources, not to mention committing what at times were increasing numbers of hours at lower and lower increments of progress.\n",
    "\n",
    "Using my imagination I was delighted to appreciate how important scale really is. What is meant by “big data” is not necessarily obvious. I completed my project treating it as a one-off. I produced the deliverables I established in the most judicious manner possible. I was not committed to find the best or most elegant, permanent solution because I was dealing with a temporary problem. “Make me a list of neighborhoods in Toronto that ranks them as sales territories. Use this formula.” There is no intention to do this again, or do it for every city on every continent. It was envisioned as a one and done.\n",
    "\n",
    "During the course of the project I started to imagine. “What if?” What if I was assigned to perform the same analysis of EVERY city in Canada, for the same purpose? What if I had access to any data I wanted? What if I was dealing with a concerned inclined to consider the most sophisticated and probing analysis available? What would be involved, and how much better would the result be?\n",
    "\n",
    "This is the rub. The meaning of “robust.” After ruminating over it I have concluded that the payoff from committing resources to doing data science is favorable. The jump from performing analysis best suited to office productivity tools like Excel to doing things that demand “big data” resources is not as big as the payoff from doing it. If I was going to scale my project up I would probably have to find partners to work with, gain access to expensive data, and secure hardware resources suited to the task of dealing with millions or billions of data points instead of tens of thousands. At that point I could deal with that much data, of course, and that is the point! With economic resources equivalent to perhaps running a single fast food restaurant location I could conceivably profile every neighborhood in North America and use that information to operate a display advertising company that could produce revenues in the N millions of dollars.\n",
    "\n",
    "Scale. After completing nine classes on Data Science what has gotten through to me is this: <b>Scale is enormously valuable and the tools to harness it have never been more readily available.</b>"
   ]
  },
  {
   "cell_type": "code",
   "execution_count": null,
   "metadata": {},
   "outputs": [],
   "source": []
  }
 ],
 "metadata": {
  "kernelspec": {
   "display_name": "Python 3",
   "language": "python",
   "name": "python3"
  },
  "language_info": {
   "codemirror_mode": {
    "name": "ipython",
    "version": 3
   },
   "file_extension": ".py",
   "mimetype": "text/x-python",
   "name": "python",
   "nbconvert_exporter": "python",
   "pygments_lexer": "ipython3",
   "version": "3.7.1"
  }
 },
 "nbformat": 4,
 "nbformat_minor": 2
}
