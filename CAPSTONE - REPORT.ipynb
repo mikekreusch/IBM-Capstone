{
 "cells": [
  {
   "cell_type": "markdown",
   "metadata": {},
   "source": [
    "# <CENTER>CAPSTONE PROJECT REPORT | SALES TERRITORY SCORE FOR TORONTO NEIGHBORHOODS</CENTER>"
   ]
  },
  {
   "cell_type": "markdown",
   "metadata": {},
   "source": [
    "# INTRODUCTION"
   ]
  },
  {
   "cell_type": "markdown",
   "metadata": {},
   "source": [
    "<b>PROBLEM</b>\n",
    "\n",
    "In order to properly allocate salespeople into sales territories, characteristics of the territory in question must be evaluated. In this report we will identify neighborhoods in Toronto as potential sales territories. The client is an advertising sales company (\"Cafn8\") that employs independent subcontractors as sales agents. The product is coffee shop display advertising, specifically:\n",
    "\n",
    "•\tBranded packaging (heat sleeves, cups, bags, single-portion sweetener, etc.)<br>\n",
    "•\tIn-shop digital kiosks<br>\n",
    "•\tCoupons integrated into transaction receipts (print or digital)\n",
    "\n",
    "Neighborhood rankings will be based on a proprietary scoring algorithm (“Prosval”) that assigns points to businesses by venue type, then sums those points into a territory score for each neighborhood (\"Terriscore\"). Neighborhoods with a large number of businesses are favorable, and certain types of businesses are more favorable compared to others, so a summation index should be robust. Cafn8 has asked for neighborhoods to be ranked based on the Terriscore they earn, and for certain tables of information to be produced. <b>The goal of this project is to produce the information Cafn8 has requested.</b>\n",
    "\n",
    "<b>BACKGROUND</b>\n",
    "\n",
    "By definition, anyone in a given coffee shop is in that location. By extension, they are also in proximity to all of the surrounding businesses. Business operators interested in brand marketing to people who are actually near them can derive great value from doing so inside a coffee shop in their neighborhood. Successful coffee shops enjoy relatively high traffic counts, and many of their customers are “regulars” from the neighborhood who visit daily, some of them staying for long periods of time. This kind of repeat exposure to display advertising is a phenomenal brand building opportunity.\n",
    "\n",
    "Brand building is an essential but hard to attribute component of any marketing program. Resources committed to brand marketing do not directly convert into observable sales the same way coupon redemptions or online click-throughs do, for example. Brand marketing intends to create a familiarity and image advantage with potential customers when they actively seek out your product or service. This typically involves large scale, expensive, mass media type programs that are inappropriate for small, locally focused businesses.\n",
    "\n",
    "Leveraging the notion of a coffee shop as an essential “third place” in a community (“The Third Place: Our Commitment, Renewed” - https://starbuckschannel.com/thethirdplace/) within which to advertise a local business is not entirely new. The same idea was executed in supermarkets with great success by TV Fanfare Publications starting in the 1950’s (“TV Fanfare Publications : Making Big Business From Small Ads” - http://articles.latimes.com/1985-02-21/business/fi-773_1_guides ). The essential driver of value in such a marketing program is to offer local businesses access to nearby locations that are frequently visited by large proportions of their customer base. This kind of targeted, appropriate-scale brand marketing has a track record of success that can be expected to repeat, because coffee shop owners work hard to establish and maintain a ubiquitous presence within a community.\n",
    "\n",
    "Cafn8 plans to use the final product from this project to assign its subcontractor sales agents to neighborhoods in Toronto. Those sales agents are responsible for entering an agreement with a coffee shop to allow display advertising inside their establishment. The incentive for the coffee shop is free supplies (Heat sleeves, cups, napkins, single serving sweetener, etc. Wi-Fi if there is a digital kiosk placed. Access to customer data if ecoupons are sent with digital receipts.). Coffee shops have some discretion over what venue types they will allow to advertise, but as a rule they agree to accept branded advertising from anyone Cafn8 has approved. After entering an agreement with a coffee shop, the sales agent must find local businesses to advertise there. Once a particular coffee shop has signed up and the advertising capacity reaches a necessary minimum level, the sales agent is eligible to be paid and they can move onto the next neighborhood to repeat the process."
   ]
  },
  {
   "cell_type": "markdown",
   "metadata": {},
   "source": [
    "# DATA"
   ]
  },
  {
   "cell_type": "markdown",
   "metadata": {},
   "source": [
    "We will be using the following data:\n",
    "\n",
    "•\tA listing of neighborhoods by Postal Code obtained from Wikipedia (https://en.wikipedia.org/wiki/List_of_postal_codes_of_Canada:_M)<br>\n",
    "•\tLatitude/Longitude data provided via Cognitive Class (https://cocl.us/Geospatial_data)<br>\n",
    "•\tToronto city data accessible through the FourSquare API<br>\n",
    "•\tTerrivalue data for each type of business provided by Cafn8<br>\n",
    "\n",
    "This data will produce the following deliverables.\n",
    "\n",
    "•\tA list of coffee shops in Toronto, by neighborhood (with Terriscore)<br>\n",
    "•\tA list of businesses, by neighborhood (with Prosval and Terriscore)<br>\n",
    "•\tA ranking of all neighborhoods based on their Terriscore<br>\n",
    "\n",
    "\n",
    "Neighborhoods will become sales territories. Terriscore is calculated from a proprietary algorithm that assigns a Prosval to each type of business. All business types are ranked by Cafn8 as follows:\n",
    "\n",
    "•\t2 - Most desirable prospects offering higher success rates for display advertising sales<br>\n",
    "•\t1 - Neutral prospects that are hit or miss and not priority to pursue<br>\n",
    "•\t0 - Least desirable prospects to call or prohibited businesses<br>\n",
    "\n",
    "Businesses within a neighborhood are scored via Prosval and summed into that neighborhood’s Terriscore. Once all neighborhoods have been scored, the list will be ranked from highest to lowest based on Terriscore. <b>The ranked list will be the focus final product.</b>\n"
   ]
  },
  {
   "cell_type": "markdown",
   "metadata": {},
   "source": [
    "# METHODOLOGY"
   ]
  },
  {
   "cell_type": "markdown",
   "metadata": {},
   "source": [
    "<b>We will begin by importing libraries and resources that we will need for the purposes of this project"
   ]
  },
  {
   "cell_type": "markdown",
   "metadata": {},
   "source": [
    "<b>We will import a table of business type Prosvals from a .csv file provided by Cafn8"
   ]
  },
  {
   "cell_type": "markdown",
   "metadata": {},
   "source": [
    "The first thing we will present is a table that defines bunsiness type values (\"Prosval\") for the <b>355 business types</b> in our dataset. This table was completed by Cafn8 after we identified 355 FourSquare API business types in the Toronto neighborhood data. Cafn8 has explained that venue values have been assigned by senior sales staff based on their collective experience selling advertising to small local businesses.\n",
    "\n",
    "NOTE: Some business types or specific businesses may be prohibited from buying advertising from Cafn8 (direct coffee shop competitors, certain \"sin\" businesses, prior bad credits, etc.). This version of the table includes no such business type prohibitions. On a coffee shop by coffee shop basis additional venue types are subject to prohibition as well. Coffee shops cannot accept advertising from any business Cafn8 prohibits even if they are willing to do so."
   ]
  },
  {
   "cell_type": "markdown",
   "metadata": {},
   "source": [
    "After importing Prosval data we will convert the <b>Toronto Wikipedia postal codes table</b> into a dataframe."
   ]
  },
  {
   "cell_type": "markdown",
   "metadata": {},
   "source": [
    "Clean up the Toronto postal codes dataframe"
   ]
  },
  {
   "cell_type": "markdown",
   "metadata": {},
   "source": [
    "Add latitude and longitude values to the dataframe from data provided by <b>Cognitive Class.</b>"
   ]
  },
  {
   "cell_type": "markdown",
   "metadata": {},
   "source": [
    "Then we connect with the <b>FourSquare API.</b>"
   ]
  },
  {
   "cell_type": "markdown",
   "metadata": {},
   "source": [
    "FourSquare requires a client ID and client Secret to access its data via the API. They also require that you state what version of the API you are using. We will load these values into variables for ease of use throughout the project."
   ]
  },
  {
   "cell_type": "markdown",
   "metadata": {},
   "source": [
    "Now we compile a list of FourSquare URLs for the <b>103 neighborhoods in Toronto.</b> These URL addresses contain neighborhood data we will use to extract a list of all coffee shops in each neighborhood in Toronto, and eventually all other businesses in each neighborhood."
   ]
  },
  {
   "cell_type": "markdown",
   "metadata": {},
   "source": [
    "The next step is to retrieve each URL and extract data for Toronto coffee shops."
   ]
  },
  {
   "cell_type": "markdown",
   "metadata": {},
   "source": [
    "We produce a data frame with <b>348 coffee shops in Toronto.</b> One URL (index = 16) causes an issue because it contains no data. We are simply passing over this URL and will work with <b>102 neighborhoods.</b>"
   ]
  },
  {
   "cell_type": "markdown",
   "metadata": {},
   "source": [
    "Now we retrieve each URL and extract data for all businesses by neighborhood."
   ]
  },
  {
   "cell_type": "markdown",
   "metadata": {},
   "source": [
    "We produce a data frame with <b>4853 businesses in Toronto.</b> One URL (index = 16) causes an issue with FourSquare, because it contains no data. We are simply passing over this URL and now work with <b>102 neighborhoods.</b>"
   ]
  },
  {
   "cell_type": "markdown",
   "metadata": {},
   "source": [
    "Processing of the data results in production of the three deliverables designated above."
   ]
  },
  {
   "cell_type": "markdown",
   "metadata": {},
   "source": [
    "# RESULTS"
   ]
  },
  {
   "cell_type": "markdown",
   "metadata": {},
   "source": [
    "The three deliverables requested by Cafn8 are presented in the notebook associated with this report. To produce these tables for Cafn8, data was collected from four sources (Wikipedia, Cognitive Class, FourSquare, and Cafn8). We used python to collect and handle the data and used Microsoft Excel to process some of it. Microsoft .xls/.csv formatted files were requested by Cafn8.\n",
    "\n",
    "Preparing a sales prospecting resource for indpendent contractor sales agents does not demand a very high degree of analytical work. It does offer a basis for the client to perform analysis and make strategic decisions as a practitioner in their field, however. This project is an example of Data Science as a collection and description process. Cafn8 knows what they want, and for their purposes this information will provide meaningful value.\n",
    "\n",
    "Deliverables are large but presented in full for your inspection in the associated notebook. In addition to this report, Cafn8 is being provided with Microsoft Excel .xls/.csv files as per their request."
   ]
  },
  {
   "cell_type": "markdown",
   "metadata": {},
   "source": [
    "<b>A list of coffee shops in Toronto, by neighborhood (with Terriscore)</b>"
   ]
  },
  {
   "cell_type": "markdown",
   "metadata": {},
   "source": [
    "<b>A list of businesses, by neighborhood (with Prosval and Terriscore)</b>"
   ]
  },
  {
   "cell_type": "markdown",
   "metadata": {},
   "source": [
    "<b>A ranking of all neighborhoods based on their Terriscore</b>"
   ]
  },
  {
   "cell_type": "markdown",
   "metadata": {},
   "source": [
    "The notebook associated with this report can be found here: <a href=\"\">Terriscore Notebook</a>"
   ]
  },
  {
   "cell_type": "markdown",
   "metadata": {},
   "source": [
    "# DISCUSSION"
   ]
  },
  {
   "cell_type": "markdown",
   "metadata": {},
   "source": [
    "In the ranking of neighborhoods by Terrascore, you see that there are a number of neighborhoods with high scores. The median Terriscore from 102 neighborhoods is 24, and 30 neighborhoods scored 50 or higher. Realistically, a sales agent should be able to sell out the available display advertising space in a coffee shop by presenting to no more than a couple dozen interested businesses. Terriscore attempts to create a quality-weighted metric that should equate to a count of probable coffee shop display advertising buyers. By this standard, at least half of the neighborhoods in Toronto should be viable sales territories. On a simple unweighted counting basis, 67 neighborhoods returned at least 24 businesses to approach.\n",
    "\n",
    "The final deliverable also offers a potential opportunity to reconsider the additive index approach. Consider the top-ranked neighborhood, M5T Chinatown, Grange Park, Kensington Market. It returns the max of 100 businesses, but achives a Terriscore of 92. That 92% ratio may demand being built into a quality metric. The lowest Terriscore among neighborhoods that provided 100 businesses was 61 (M5E Berczy Park), a 61% ratio. The next lower Terriscore on the list is 55 (M4L The Beaches West, India Bazaar), but it is based on only 79 businesses, a 69.6% ratio. Which is the \"better\" score? It may be the case that above a certain quantity threshhold a Terriscore ratio should prevail when allocating sales agents into territories.\n",
    "\n",
    "We were limited to returning no more than 100 results for a given search, which covered a radius of 1000m around each neighborhood's lat/lng focal point. That search criteria leads to roughly 1,500 duplicates (business addresses that appear in more than one neighborhood area). It is not necessarily the case that duplicates caused by businesses being located in overlapping territories are a problem. There is no reason to presume that a given business will not advertise inside more than one coffee shop in its business area. A sales agent may well find themselves calling on a business that has already committed to another coffee shop, but this does not mean the call is not worth making. Advertisers advertise, and the worst case from any sales call is a \"no.\""
   ]
  },
  {
   "cell_type": "markdown",
   "metadata": {},
   "source": [
    "# CONCLUSION"
   ]
  },
  {
   "cell_type": "markdown",
   "metadata": {},
   "source": [
    "The primary takeaway from this project is that the quantity of data that was <b>not</b> available is large and potentially more useful than the data collected. For example, FourSquare business types did not include <b>professional people</b> (medical, legal, financial, real estate, etc.) who are typically asssigned Prosval scores of 2 and who traditionally purchase local advertising in all forms. There are <b>only 56 banks</b> in a data set that includes nearly 3,500 businesses. Small independent banks have been reliable buyers of local display advertising in the past. Are there really only 56 banks in Toronto, or is the data incomplete? Other examples of enthusiastic buyers of local display advertising that are effectively missing from the data include <b>automotive related businesses</b> (repair, dealerships, rental, etc contribute less than 10 data points), <b>end of life services,</b> and <b>building contractors</b> (plumber, electrical, HVAC, carpentry, etc.).\n",
    "\n",
    "TV Fanfare Publications, the company mentioned at the beginning of this report, allowed its independent subcontractor sales agents great latitude in devising procedures for selling display advertising to appear in supermarkets. The successful version of this process worked as follows, more or less.\n",
    "\n",
    "•\tGo to the sales territory and collect all forms of print advertising available<br>\n",
    "•\tContact advertisers, by business type, by size/frequency of advertisement, as you prefer<br>\n",
    "•\tSell out the display advertising space available in the supermarket and move on<br>\n",
    "\n",
    "This is the model that Cafn8 will attempt to reproduce, more or less. Understanding where this project falls in the context of that model, it would appear that another iteration of Data Science should probably be pursued to build on our limited results.\n",
    "\n",
    "Here is the issue Cafn8 must consider: <b>Will additional effort lead to different and better results?</b>\n",
    "\n",
    "\"Robust\" is the word for that notion. Additional data to be processed into information comes at a cost (acquisition cost, processing cost, intellectual resource commitment). Based on our results, it would appear obvious that large amounts of additional data <b>are worth accumulating and processing.</b> Data on the unrepresented and underrepresented businesses above must be collected and assessed. Whether adding this data to our project would actually change the rankings is uncertain, but it would definitely add to the number of potential customers and perhaps offer a reason to be more aggressive about pricing, or some other aspect of the structure of the coffee shop display advertising deal being offered. It would also raise the stakes for making optimal assignments of the most effective sales agents to the most lucrative territories.\n",
    "\n",
    "Wherever possible, making maximum use of low cost proxy data that is robust can offer enormous returns on investment into data science. In the case of this project, we are confident that valuable sales territory information has been created by producing Terriscores despite having incomplete data. Future efforts to improve on deliverables will be worth pursuing, but are unlikely to contradict the primary result. Adding new business categories or adjusting Prosval for business types may alter the rankings somewhat, but it appears unlikely that the rankings would flip under any circumstances. There should not be any systematic effect that would reorder given clusters of neighborhoods very far from their current position on the ranked list in future data science projects.\n",
    "\n",
    "For that reason, Cafn8 should be pleased with this report and find value in making use of it to make decisions about sales territories in Toronto."
   ]
  }
 ],
 "metadata": {
  "kernelspec": {
   "display_name": "Python 3",
   "language": "python",
   "name": "python3"
  },
  "language_info": {
   "codemirror_mode": {
    "name": "ipython",
    "version": 3
   },
   "file_extension": ".py",
   "mimetype": "text/x-python",
   "name": "python",
   "nbconvert_exporter": "python",
   "pygments_lexer": "ipython3",
   "version": "3.7.1"
  }
 },
 "nbformat": 4,
 "nbformat_minor": 2
}
